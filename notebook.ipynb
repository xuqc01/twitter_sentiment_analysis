{
 "cells": [
  {
   "cell_type": "markdown",
   "metadata": {},
   "source": [
    "### Importing Libraries"
   ]
  },
  {
   "cell_type": "code",
   "execution_count": 232,
   "metadata": {},
   "outputs": [],
   "source": [
    "import pandas as pd\n",
    "import matplotlib.pyplot as plt\n",
    "import nltk\n",
    "nltk.download('stopwords', quiet=True)\n",
    "from nltk.corpus import stopwords\n",
    "from nltk.tokenize import RegexpTokenizer\n",
    "from sklearn.model_selection import train_test_split\n",
    "from sklearn.feature_extraction.text import TfidfVectorizer\n",
    "from sklearn.ensemble import RandomForestClassifier\n",
    "from sklearn.metrics import recall_score\n",
    "%matplotlib inline"
   ]
  },
  {
   "cell_type": "markdown",
   "metadata": {},
   "source": [
    "### Importing Data and Data Manipulation"
   ]
  },
  {
   "cell_type": "code",
   "execution_count": 233,
   "metadata": {},
   "outputs": [],
   "source": [
    "# Read in all tables\n",
    "# Concat all tables\n",
    "\n",
    "tweets = pd.read_csv('tweets.csv', encoding='iso-8859-1')\n",
    "steven_gpt_tweets = pd.read_csv('chatgpt_tweets.csv')\n",
    "maddie_gpt_tweets = pd.read_csv('cg_tweets_final.csv')\n"
   ]
  },
  {
   "cell_type": "code",
   "execution_count": 234,
   "metadata": {},
   "outputs": [
    {
     "data": {
      "text/plain": [
       "Index(['tweet_text', 'emotion_in_tweet_is_directed_at',\n",
       "       'is_there_an_emotion_directed_at_a_brand_or_product'],\n",
       "      dtype='object')"
      ]
     },
     "execution_count": 234,
     "metadata": {},
     "output_type": "execute_result"
    }
   ],
   "source": [
    "tweets.columns"
   ]
  },
  {
   "cell_type": "code",
   "execution_count": 235,
   "metadata": {},
   "outputs": [
    {
     "data": {
      "text/html": [
       "<div>\n",
       "<style scoped>\n",
       "    .dataframe tbody tr th:only-of-type {\n",
       "        vertical-align: middle;\n",
       "    }\n",
       "\n",
       "    .dataframe tbody tr th {\n",
       "        vertical-align: top;\n",
       "    }\n",
       "\n",
       "    .dataframe thead th {\n",
       "        text-align: right;\n",
       "    }\n",
       "</style>\n",
       "<table border=\"1\" class=\"dataframe\">\n",
       "  <thead>\n",
       "    <tr style=\"text-align: right;\">\n",
       "      <th></th>\n",
       "      <th>tweet_text</th>\n",
       "      <th>brand</th>\n",
       "      <th>emotion</th>\n",
       "    </tr>\n",
       "  </thead>\n",
       "  <tbody>\n",
       "    <tr>\n",
       "      <th>0</th>\n",
       "      <td>.@wesley83 I have a 3G iPhone. After 3 hrs twe...</td>\n",
       "      <td>iPhone</td>\n",
       "      <td>Negative emotion</td>\n",
       "    </tr>\n",
       "    <tr>\n",
       "      <th>1</th>\n",
       "      <td>@jessedee Know about @fludapp ? Awesome iPad/i...</td>\n",
       "      <td>iPad or iPhone App</td>\n",
       "      <td>Positive emotion</td>\n",
       "    </tr>\n",
       "  </tbody>\n",
       "</table>\n",
       "</div>"
      ],
      "text/plain": [
       "                                          tweet_text               brand  \\\n",
       "0  .@wesley83 I have a 3G iPhone. After 3 hrs twe...              iPhone   \n",
       "1  @jessedee Know about @fludapp ? Awesome iPad/i...  iPad or iPhone App   \n",
       "\n",
       "            emotion  \n",
       "0  Negative emotion  \n",
       "1  Positive emotion  "
      ]
     },
     "execution_count": 235,
     "metadata": {},
     "output_type": "execute_result"
    }
   ],
   "source": [
    "tweets.rename(\n",
    "    columns={\n",
    "        'emotion_in_tweet_is_directed_at': 'brand',\n",
    "        'is_there_an_emotion_directed_at_a_brand_or_product': 'emotion'\n",
    "    },\n",
    "    inplace=True)\n",
    "\n",
    "tweets.head(2)"
   ]
  },
  {
   "cell_type": "code",
   "execution_count": 236,
   "metadata": {},
   "outputs": [
    {
     "data": {
      "text/plain": [
       "Index(['Tweets'], dtype='object')"
      ]
     },
     "execution_count": 236,
     "metadata": {},
     "output_type": "execute_result"
    }
   ],
   "source": [
    "steven_gpt_tweets.columns"
   ]
  },
  {
   "cell_type": "code",
   "execution_count": 237,
   "metadata": {},
   "outputs": [
    {
     "data": {
      "text/html": [
       "<div>\n",
       "<style scoped>\n",
       "    .dataframe tbody tr th:only-of-type {\n",
       "        vertical-align: middle;\n",
       "    }\n",
       "\n",
       "    .dataframe tbody tr th {\n",
       "        vertical-align: top;\n",
       "    }\n",
       "\n",
       "    .dataframe thead th {\n",
       "        text-align: right;\n",
       "    }\n",
       "</style>\n",
       "<table border=\"1\" class=\"dataframe\">\n",
       "  <thead>\n",
       "    <tr style=\"text-align: right;\">\n",
       "      <th></th>\n",
       "      <th>tweet_text</th>\n",
       "      <th>brand</th>\n",
       "      <th>emotion</th>\n",
       "    </tr>\n",
       "  </thead>\n",
       "  <tbody>\n",
       "    <tr>\n",
       "      <th>0</th>\n",
       "      <td>Apple's desperation for attention is evident w...</td>\n",
       "      <td>Apple</td>\n",
       "      <td>Negative emotion</td>\n",
       "    </tr>\n",
       "    <tr>\n",
       "      <th>1</th>\n",
       "      <td>Barry Diller's thoughts on iPad-only content s...</td>\n",
       "      <td>Apple</td>\n",
       "      <td>Negative emotion</td>\n",
       "    </tr>\n",
       "  </tbody>\n",
       "</table>\n",
       "</div>"
      ],
      "text/plain": [
       "                                          tweet_text  brand           emotion\n",
       "0  Apple's desperation for attention is evident w...  Apple  Negative emotion\n",
       "1  Barry Diller's thoughts on iPad-only content s...  Apple  Negative emotion"
      ]
     },
     "execution_count": 237,
     "metadata": {},
     "output_type": "execute_result"
    }
   ],
   "source": [
    "# Renaming columns to prepare for concatenation\n",
    "steven_gpt_tweets.rename(columns={'Tweets': 'tweet_text'}, inplace=True)\n",
    "\n",
    "# Adding columns with brand and emotion as all 'Apple' and 'Negative emotion', respectively\n",
    "steven_gpt_tweets['brand'] = 'Apple'\n",
    "steven_gpt_tweets['emotion'] = 'Negative emotion'\n",
    "\n",
    "steven_gpt_tweets.head(2)"
   ]
  },
  {
   "cell_type": "code",
   "execution_count": 238,
   "metadata": {},
   "outputs": [
    {
     "data": {
      "text/plain": [
       "Index(['Tweet ', 'Emotion'], dtype='object')"
      ]
     },
     "execution_count": 238,
     "metadata": {},
     "output_type": "execute_result"
    }
   ],
   "source": [
    "maddie_gpt_tweets.columns"
   ]
  },
  {
   "cell_type": "code",
   "execution_count": 239,
   "metadata": {},
   "outputs": [
    {
     "data": {
      "text/html": [
       "<div>\n",
       "<style scoped>\n",
       "    .dataframe tbody tr th:only-of-type {\n",
       "        vertical-align: middle;\n",
       "    }\n",
       "\n",
       "    .dataframe tbody tr th {\n",
       "        vertical-align: top;\n",
       "    }\n",
       "\n",
       "    .dataframe thead th {\n",
       "        text-align: right;\n",
       "    }\n",
       "</style>\n",
       "<table border=\"1\" class=\"dataframe\">\n",
       "  <thead>\n",
       "    <tr style=\"text-align: right;\">\n",
       "      <th></th>\n",
       "      <th>tweet_text</th>\n",
       "      <th>brand</th>\n",
       "      <th>emotion</th>\n",
       "    </tr>\n",
       "  </thead>\n",
       "  <tbody>\n",
       "    <tr>\n",
       "      <th>0</th>\n",
       "      <td>\"No NFC in the iPhone 5 at #SXSW due to Apple'...</td>\n",
       "      <td>Apple</td>\n",
       "      <td>Negative</td>\n",
       "    </tr>\n",
       "    <tr>\n",
       "      <th>1</th>\n",
       "      <td>\"Barry Diller's not holding back, openly criti...</td>\n",
       "      <td>Apple</td>\n",
       "      <td>Negative</td>\n",
       "    </tr>\n",
       "  </tbody>\n",
       "</table>\n",
       "</div>"
      ],
      "text/plain": [
       "                                          tweet_text  brand   emotion\n",
       "0  \"No NFC in the iPhone 5 at #SXSW due to Apple'...  Apple  Negative\n",
       "1  \"Barry Diller's not holding back, openly criti...  Apple  Negative"
      ]
     },
     "execution_count": 239,
     "metadata": {},
     "output_type": "execute_result"
    }
   ],
   "source": [
    "# Renaming columns to prepare for concatenation\n",
    "maddie_gpt_tweets.rename(\n",
    "    columns={\n",
    "        'Tweet ': 'tweet_text',\n",
    "        'Emotion': 'emotion'\n",
    "    },\n",
    "    inplace=True\n",
    ")\n",
    "\n",
    "# Adding column with brand as all 'Apple'\n",
    "maddie_gpt_tweets['brand'] = 'Apple'\n",
    "\n",
    "# Changing the order of columns to match other tweet dataframes\n",
    "maddie_gpt_tweets = maddie_gpt_tweets[['tweet_text', 'brand', 'emotion']]\n",
    "\n",
    "\n",
    "maddie_gpt_tweets.head(2)"
   ]
  },
  {
   "cell_type": "code",
   "execution_count": 240,
   "metadata": {},
   "outputs": [
    {
     "name": "stdout",
     "output_type": "stream",
     "text": [
      "Number of Tweets with duplicates: 10406\n",
      "Number of Tweets without duplicates: 10049\n"
     ]
    },
    {
     "data": {
      "text/plain": [
       "0    0.656637\n",
       "1    0.343363\n",
       "Name: emotion, dtype: float64"
      ]
     },
     "execution_count": 240,
     "metadata": {},
     "output_type": "execute_result"
    }
   ],
   "source": [
    "# Combining all of our dataframes into 1\n",
    "all_tweets = pd.concat([tweets, steven_gpt_tweets, maddie_gpt_tweets], ignore_index=True)\n",
    "\n",
    "print(f\"Number of Tweets with duplicates: {len(all_tweets)}\")\n",
    "\n",
    "# Dropping duplicated tweets that were generated from ChatGPT\n",
    "all_tweets.drop_duplicates(subset=['tweet_text'], inplace=True)\n",
    "print(f\"Number of Tweets without duplicates: {len(all_tweets)}\")\n",
    "\n",
    "\n",
    "apple_tweets = all_tweets.copy()\n",
    "\n",
    "# Dictionary to convert apple products to just 'Apple'\n",
    "apple_products = {'iPad': 'Apple',\n",
    "                  'Apple': 'Apple',\n",
    "                  'iPad or iPhone App': 'Apple',\n",
    "                  'iPhone': 'Apple',\n",
    "                  'Other Apple product or service': 'Apple'}\n",
    "\n",
    "# Convert all Apple products to just 'Apple'\n",
    "apple_tweets['brand'] = apple_tweets['brand'].map(apple_products)\n",
    "\n",
    "# Analyze tweets where the emotions were only positive or negative\n",
    "apple_tweets = apple_tweets.loc[\n",
    "    (apple_tweets['emotion']=='Positive emotion') | \n",
    "    (apple_tweets['emotion']=='Negative emotion') | \n",
    "    (apple_tweets['emotion']=='Negative')]\n",
    "\n",
    "\n",
    "# Dictioanry to convert emotions to binary 0's and 1's\n",
    "numeric_emotion = {\n",
    "    'Negative': 1,\n",
    "    'Negative emotion': 1,\n",
    "    'Positive': 0,\n",
    "    'Positive emotion': 0}\n",
    "\n",
    "# Convert all positive and negative emotions to 1 and 0, respectively\n",
    "apple_tweets['emotion'] = apple_tweets['emotion'].map(numeric_emotion)\n",
    "\n",
    "\n",
    "apple_tweets['emotion'].value_counts(normalize=True)\n"
   ]
  },
  {
   "cell_type": "markdown",
   "metadata": {},
   "source": [
    "### Exploratory Data Analysis (EDA)"
   ]
  },
  {
   "cell_type": "code",
   "execution_count": 241,
   "metadata": {},
   "outputs": [
    {
     "data": {
      "image/png": "[encoded data removed]",
      "text/plain": [
       "<Figure size 432x288 with 1 Axes>"
      ]
     },
     "metadata": {
      "needs_background": "light"
     },
     "output_type": "display_data"
    }
   ],
   "source": [
    "# Finding the distribution of emotion for tweets\n",
    "emotion = apple_tweets['emotion'].value_counts(normalize=True)\n",
    "\n",
    "fig, ax = plt.subplots()\n",
    "ax.bar(x=['Positive', 'Negative'], height=emotion*100)\n",
    "\n",
    "ax.set_title('Disitribution of Emotions from Tweets');\n",
    "ax.set_ylabel('Percentage');"
   ]
  },
  {
   "cell_type": "code",
   "execution_count": 242,
   "metadata": {},
   "outputs": [
    {
     "name": "stderr",
     "output_type": "stream",
     "text": [
      "<ipython-input-242-21c99d3c68e0>:6: UserWarning: FixedFormatter should only be used together with FixedLocator\n",
      "  ax.set_xticklabels(emotion.index, rotation=-35, ha='left')\n"
     ]
    },
    {
     "data": {
      "image/png": "[encoded data removed]",
      "text/plain": [
       "<Figure size 432x288 with 1 Axes>"
      ]
     },
     "metadata": {
      "needs_background": "light"
     },
     "output_type": "display_data"
    }
   ],
   "source": [
    "emotion = tweets['brand'].value_counts(normalize=True)\n",
    "\n",
    "fig, ax = plt.subplots()\n",
    "\n",
    "ax.bar(x=emotion.index, height=emotion*100)\n",
    "ax.set_xticklabels(emotion.index, rotation=-35, ha='left')\n",
    "ax.set_xlabel('Products')\n",
    "ax.set_ylabel('Percentage')\n",
    "ax.set_title('Disitrubtion of Product Reviews from Tweets');"
   ]
  },
  {
   "cell_type": "markdown",
   "metadata": {},
   "source": [
    "### Term Frequency - Inverse Document Frequency (TF-IDF)\n"
   ]
  },
  {
   "cell_type": "code",
   "execution_count": 243,
   "metadata": {},
   "outputs": [],
   "source": [
    "X = apple_tweets['tweet_text']\n",
    "y = apple_tweets['emotion']\n",
    "\n",
    "X_train, X_test, y_train, y_test = train_test_split(X, y, stratify=y, random_state=42)\n"
   ]
  },
  {
   "cell_type": "code",
   "execution_count": 244,
   "metadata": {},
   "outputs": [
    {
     "data": {
      "text/html": [
       "<div>\n",
       "<style scoped>\n",
       "    .dataframe tbody tr th:only-of-type {\n",
       "        vertical-align: middle;\n",
       "    }\n",
       "\n",
       "    .dataframe tbody tr th {\n",
       "        vertical-align: top;\n",
       "    }\n",
       "\n",
       "    .dataframe thead th {\n",
       "        text-align: right;\n",
       "    }\n",
       "</style>\n",
       "<table border=\"1\" class=\"dataframe\">\n",
       "  <thead>\n",
       "    <tr style=\"text-align: right;\">\n",
       "      <th></th>\n",
       "      <th>amp</th>\n",
       "      <th>android</th>\n",
       "      <th>circles</th>\n",
       "      <th>get</th>\n",
       "      <th>google</th>\n",
       "      <th>great</th>\n",
       "      <th>launch</th>\n",
       "      <th>like</th>\n",
       "      <th>line</th>\n",
       "      <th>link</th>\n",
       "      <th>mention</th>\n",
       "      <th>new</th>\n",
       "      <th>one</th>\n",
       "      <th>people</th>\n",
       "      <th>pop</th>\n",
       "      <th>quot</th>\n",
       "      <th>rt</th>\n",
       "      <th>social</th>\n",
       "      <th>store</th>\n",
       "      <th>time</th>\n",
       "    </tr>\n",
       "  </thead>\n",
       "  <tbody>\n",
       "    <tr>\n",
       "      <th>0</th>\n",
       "      <td>0.607372</td>\n",
       "      <td>0.000000</td>\n",
       "      <td>0.0</td>\n",
       "      <td>0.000000</td>\n",
       "      <td>0.00000</td>\n",
       "      <td>0.0</td>\n",
       "      <td>0.0</td>\n",
       "      <td>0.0</td>\n",
       "      <td>0.0</td>\n",
       "      <td>0.000000</td>\n",
       "      <td>0.286379</td>\n",
       "      <td>0.000000</td>\n",
       "      <td>0.634213</td>\n",
       "      <td>0.0</td>\n",
       "      <td>0.0</td>\n",
       "      <td>0.0</td>\n",
       "      <td>0.383223</td>\n",
       "      <td>0.0</td>\n",
       "      <td>0.000000</td>\n",
       "      <td>0.000000</td>\n",
       "    </tr>\n",
       "    <tr>\n",
       "      <th>1</th>\n",
       "      <td>0.000000</td>\n",
       "      <td>0.000000</td>\n",
       "      <td>0.0</td>\n",
       "      <td>0.000000</td>\n",
       "      <td>0.00000</td>\n",
       "      <td>0.0</td>\n",
       "      <td>0.0</td>\n",
       "      <td>0.0</td>\n",
       "      <td>0.0</td>\n",
       "      <td>0.000000</td>\n",
       "      <td>0.000000</td>\n",
       "      <td>0.000000</td>\n",
       "      <td>0.000000</td>\n",
       "      <td>0.0</td>\n",
       "      <td>0.0</td>\n",
       "      <td>0.0</td>\n",
       "      <td>0.000000</td>\n",
       "      <td>0.0</td>\n",
       "      <td>0.000000</td>\n",
       "      <td>0.000000</td>\n",
       "    </tr>\n",
       "    <tr>\n",
       "      <th>2</th>\n",
       "      <td>0.806587</td>\n",
       "      <td>0.000000</td>\n",
       "      <td>0.0</td>\n",
       "      <td>0.000000</td>\n",
       "      <td>0.00000</td>\n",
       "      <td>0.0</td>\n",
       "      <td>0.0</td>\n",
       "      <td>0.0</td>\n",
       "      <td>0.0</td>\n",
       "      <td>0.452530</td>\n",
       "      <td>0.380309</td>\n",
       "      <td>0.000000</td>\n",
       "      <td>0.000000</td>\n",
       "      <td>0.0</td>\n",
       "      <td>0.0</td>\n",
       "      <td>0.0</td>\n",
       "      <td>0.000000</td>\n",
       "      <td>0.0</td>\n",
       "      <td>0.000000</td>\n",
       "      <td>0.000000</td>\n",
       "    </tr>\n",
       "    <tr>\n",
       "      <th>3</th>\n",
       "      <td>0.000000</td>\n",
       "      <td>0.000000</td>\n",
       "      <td>0.0</td>\n",
       "      <td>0.000000</td>\n",
       "      <td>0.00000</td>\n",
       "      <td>0.0</td>\n",
       "      <td>0.0</td>\n",
       "      <td>0.0</td>\n",
       "      <td>0.0</td>\n",
       "      <td>0.000000</td>\n",
       "      <td>1.000000</td>\n",
       "      <td>0.000000</td>\n",
       "      <td>0.000000</td>\n",
       "      <td>0.0</td>\n",
       "      <td>0.0</td>\n",
       "      <td>0.0</td>\n",
       "      <td>0.000000</td>\n",
       "      <td>0.0</td>\n",
       "      <td>0.000000</td>\n",
       "      <td>0.000000</td>\n",
       "    </tr>\n",
       "    <tr>\n",
       "      <th>4</th>\n",
       "      <td>0.000000</td>\n",
       "      <td>0.481912</td>\n",
       "      <td>0.0</td>\n",
       "      <td>0.484852</td>\n",
       "      <td>0.00000</td>\n",
       "      <td>0.0</td>\n",
       "      <td>0.0</td>\n",
       "      <td>0.0</td>\n",
       "      <td>0.0</td>\n",
       "      <td>0.000000</td>\n",
       "      <td>0.000000</td>\n",
       "      <td>0.400708</td>\n",
       "      <td>0.000000</td>\n",
       "      <td>0.0</td>\n",
       "      <td>0.0</td>\n",
       "      <td>0.0</td>\n",
       "      <td>0.000000</td>\n",
       "      <td>0.0</td>\n",
       "      <td>0.350793</td>\n",
       "      <td>0.499055</td>\n",
       "    </tr>\n",
       "    <tr>\n",
       "      <th>...</th>\n",
       "      <td>...</td>\n",
       "      <td>...</td>\n",
       "      <td>...</td>\n",
       "      <td>...</td>\n",
       "      <td>...</td>\n",
       "      <td>...</td>\n",
       "      <td>...</td>\n",
       "      <td>...</td>\n",
       "      <td>...</td>\n",
       "      <td>...</td>\n",
       "      <td>...</td>\n",
       "      <td>...</td>\n",
       "      <td>...</td>\n",
       "      <td>...</td>\n",
       "      <td>...</td>\n",
       "      <td>...</td>\n",
       "      <td>...</td>\n",
       "      <td>...</td>\n",
       "      <td>...</td>\n",
       "      <td>...</td>\n",
       "    </tr>\n",
       "    <tr>\n",
       "      <th>3385</th>\n",
       "      <td>0.000000</td>\n",
       "      <td>0.601516</td>\n",
       "      <td>0.0</td>\n",
       "      <td>0.000000</td>\n",
       "      <td>0.00000</td>\n",
       "      <td>0.0</td>\n",
       "      <td>0.0</td>\n",
       "      <td>0.0</td>\n",
       "      <td>0.0</td>\n",
       "      <td>0.000000</td>\n",
       "      <td>0.000000</td>\n",
       "      <td>0.500158</td>\n",
       "      <td>0.000000</td>\n",
       "      <td>0.0</td>\n",
       "      <td>0.0</td>\n",
       "      <td>0.0</td>\n",
       "      <td>0.000000</td>\n",
       "      <td>0.0</td>\n",
       "      <td>0.000000</td>\n",
       "      <td>0.622913</td>\n",
       "    </tr>\n",
       "    <tr>\n",
       "      <th>3386</th>\n",
       "      <td>0.000000</td>\n",
       "      <td>0.000000</td>\n",
       "      <td>0.0</td>\n",
       "      <td>0.000000</td>\n",
       "      <td>0.81352</td>\n",
       "      <td>0.0</td>\n",
       "      <td>0.0</td>\n",
       "      <td>0.0</td>\n",
       "      <td>0.0</td>\n",
       "      <td>0.337384</td>\n",
       "      <td>0.283540</td>\n",
       "      <td>0.000000</td>\n",
       "      <td>0.000000</td>\n",
       "      <td>0.0</td>\n",
       "      <td>0.0</td>\n",
       "      <td>0.0</td>\n",
       "      <td>0.379424</td>\n",
       "      <td>0.0</td>\n",
       "      <td>0.000000</td>\n",
       "      <td>0.000000</td>\n",
       "    </tr>\n",
       "    <tr>\n",
       "      <th>3387</th>\n",
       "      <td>0.785573</td>\n",
       "      <td>0.000000</td>\n",
       "      <td>0.0</td>\n",
       "      <td>0.000000</td>\n",
       "      <td>0.00000</td>\n",
       "      <td>0.0</td>\n",
       "      <td>0.0</td>\n",
       "      <td>0.0</td>\n",
       "      <td>0.0</td>\n",
       "      <td>0.000000</td>\n",
       "      <td>0.370401</td>\n",
       "      <td>0.000000</td>\n",
       "      <td>0.000000</td>\n",
       "      <td>0.0</td>\n",
       "      <td>0.0</td>\n",
       "      <td>0.0</td>\n",
       "      <td>0.495659</td>\n",
       "      <td>0.0</td>\n",
       "      <td>0.000000</td>\n",
       "      <td>0.000000</td>\n",
       "    </tr>\n",
       "    <tr>\n",
       "      <th>3388</th>\n",
       "      <td>0.000000</td>\n",
       "      <td>0.000000</td>\n",
       "      <td>0.0</td>\n",
       "      <td>0.000000</td>\n",
       "      <td>1.00000</td>\n",
       "      <td>0.0</td>\n",
       "      <td>0.0</td>\n",
       "      <td>0.0</td>\n",
       "      <td>0.0</td>\n",
       "      <td>0.000000</td>\n",
       "      <td>0.000000</td>\n",
       "      <td>0.000000</td>\n",
       "      <td>0.000000</td>\n",
       "      <td>0.0</td>\n",
       "      <td>0.0</td>\n",
       "      <td>0.0</td>\n",
       "      <td>0.000000</td>\n",
       "      <td>0.0</td>\n",
       "      <td>0.000000</td>\n",
       "      <td>0.000000</td>\n",
       "    </tr>\n",
       "    <tr>\n",
       "      <th>3389</th>\n",
       "      <td>0.000000</td>\n",
       "      <td>0.000000</td>\n",
       "      <td>0.0</td>\n",
       "      <td>0.000000</td>\n",
       "      <td>0.00000</td>\n",
       "      <td>0.0</td>\n",
       "      <td>0.0</td>\n",
       "      <td>0.0</td>\n",
       "      <td>0.0</td>\n",
       "      <td>0.000000</td>\n",
       "      <td>0.000000</td>\n",
       "      <td>0.000000</td>\n",
       "      <td>0.000000</td>\n",
       "      <td>0.0</td>\n",
       "      <td>0.0</td>\n",
       "      <td>0.0</td>\n",
       "      <td>0.000000</td>\n",
       "      <td>0.0</td>\n",
       "      <td>1.000000</td>\n",
       "      <td>0.000000</td>\n",
       "    </tr>\n",
       "  </tbody>\n",
       "</table>\n",
       "<p>3390 rows × 20 columns</p>\n",
       "</div>"
      ],
      "text/plain": [
       "           amp   android  circles       get   google  great  launch  like  \\\n",
       "0     0.607372  0.000000      0.0  0.000000  0.00000    0.0     0.0   0.0   \n",
       "1     0.000000  0.000000      0.0  0.000000  0.00000    0.0     0.0   0.0   \n",
       "2     0.806587  0.000000      0.0  0.000000  0.00000    0.0     0.0   0.0   \n",
       "3     0.000000  0.000000      0.0  0.000000  0.00000    0.0     0.0   0.0   \n",
       "4     0.000000  0.481912      0.0  0.484852  0.00000    0.0     0.0   0.0   \n",
       "...        ...       ...      ...       ...      ...    ...     ...   ...   \n",
       "3385  0.000000  0.601516      0.0  0.000000  0.00000    0.0     0.0   0.0   \n",
       "3386  0.000000  0.000000      0.0  0.000000  0.81352    0.0     0.0   0.0   \n",
       "3387  0.785573  0.000000      0.0  0.000000  0.00000    0.0     0.0   0.0   \n",
       "3388  0.000000  0.000000      0.0  0.000000  1.00000    0.0     0.0   0.0   \n",
       "3389  0.000000  0.000000      0.0  0.000000  0.00000    0.0     0.0   0.0   \n",
       "\n",
       "      line      link   mention       new       one  people  pop  quot  \\\n",
       "0      0.0  0.000000  0.286379  0.000000  0.634213     0.0  0.0   0.0   \n",
       "1      0.0  0.000000  0.000000  0.000000  0.000000     0.0  0.0   0.0   \n",
       "2      0.0  0.452530  0.380309  0.000000  0.000000     0.0  0.0   0.0   \n",
       "3      0.0  0.000000  1.000000  0.000000  0.000000     0.0  0.0   0.0   \n",
       "4      0.0  0.000000  0.000000  0.400708  0.000000     0.0  0.0   0.0   \n",
       "...    ...       ...       ...       ...       ...     ...  ...   ...   \n",
       "3385   0.0  0.000000  0.000000  0.500158  0.000000     0.0  0.0   0.0   \n",
       "3386   0.0  0.337384  0.283540  0.000000  0.000000     0.0  0.0   0.0   \n",
       "3387   0.0  0.000000  0.370401  0.000000  0.000000     0.0  0.0   0.0   \n",
       "3388   0.0  0.000000  0.000000  0.000000  0.000000     0.0  0.0   0.0   \n",
       "3389   0.0  0.000000  0.000000  0.000000  0.000000     0.0  0.0   0.0   \n",
       "\n",
       "            rt  social     store      time  \n",
       "0     0.383223     0.0  0.000000  0.000000  \n",
       "1     0.000000     0.0  0.000000  0.000000  \n",
       "2     0.000000     0.0  0.000000  0.000000  \n",
       "3     0.000000     0.0  0.000000  0.000000  \n",
       "4     0.000000     0.0  0.350793  0.499055  \n",
       "...        ...     ...       ...       ...  \n",
       "3385  0.000000     0.0  0.000000  0.622913  \n",
       "3386  0.379424     0.0  0.000000  0.000000  \n",
       "3387  0.495659     0.0  0.000000  0.000000  \n",
       "3388  0.000000     0.0  0.000000  0.000000  \n",
       "3389  0.000000     0.0  1.000000  0.000000  \n",
       "\n",
       "[3390 rows x 20 columns]"
      ]
     },
     "execution_count": 244,
     "metadata": {},
     "output_type": "execute_result"
    }
   ],
   "source": [
    "# Tokenizer\n",
    "pattern = r\"(?u)\\b\\w\\w+\\b\"\n",
    "tokenizer = RegexpTokenizer(pattern)\n",
    "\n",
    "# Stop words list\n",
    "stopwords_list = stopwords.words('english')\n",
    "\n",
    "additional_stopwords = ['sxsw', 'sxswi', 'austin']\n",
    "apple_related_terms = ['app', 'apps', 'apple', 'ipad', 'ipad2', 'iphone']\n",
    "stopwords_list.extend(additional_stopwords)\n",
    "stopwords_list.extend(apple_related_terms)\n",
    "\n",
    "def tokenize(document):\n",
    "    tokens = tokenizer.tokenize(document)\n",
    "    return tokens\n",
    "\n",
    "tfidf = TfidfVectorizer(\n",
    "    max_features = 20,\n",
    "    stop_words = stopwords_list,\n",
    "    tokenizer = tokenize)\n",
    "\n",
    "X_train_vectorized = tfidf.fit_transform(X_train)\n",
    "\n",
    "pd.DataFrame.sparse.from_spmatrix(X_train_vectorized, columns=tfidf.get_feature_names())\n"
   ]
  },
  {
   "cell_type": "markdown",
   "metadata": {},
   "source": [
    "### Random Forest Classifer Model"
   ]
  },
  {
   "cell_type": "code",
   "execution_count": 279,
   "metadata": {},
   "outputs": [
    {
     "name": "stdout",
     "output_type": "stream",
     "text": [
      "Train Recall: 0.6967353951890034\n"
     ]
    }
   ],
   "source": [
    "# Random Forest Classifier Modelling\n",
    "rf = RandomForestClassifier(\n",
    "    n_estimators = 10, # number of decision trees\n",
    "    criterion = 'gini',\n",
    "    max_depth = 5, # the max depth of each decision tree\n",
    "    random_state = 42\n",
    ")\n",
    "\n",
    "rf.fit(X_train_vectorized, y_train) # fit the model onto the train features\n",
    "y_train_pred = rf.predict(X_train_vectorized) # predicted train target values from model\n",
    "\n",
    "print(f\"Train Recall: {recall_score(y_train, y_train_pred)}\") # recall score for train data"
   ]
  },
  {
   "cell_type": "code",
   "execution_count": 280,
   "metadata": {},
   "outputs": [
    {
     "name": "stdout",
     "output_type": "stream",
     "text": [
      "Test Recall: 0.6649484536082474\n"
     ]
    }
   ],
   "source": [
    "X_test_vectorized = tfidf.transform(X_test) # tf-idf transform the test features\n",
    "y_test_pred = rf.predict(X_test_vectorized) # predicted test target values from model\n",
    "\n",
    "print(f\"Test Recall: {recall_score(y_test, y_test_pred)}\") # recall score for test targets\n"
   ]
  }
 ],
 "metadata": {
  "kernelspec": {
   "display_name": "Python (learn-env)",
   "language": "python",
   "name": "leanr-env"
  },
  "language_info": {
   "codemirror_mode": {
    "name": "ipython",
    "version": 3
   },
   "file_extension": ".py",
   "mimetype": "text/x-python",
   "name": "python",
   "nbconvert_exporter": "python",
   "pygments_lexer": "ipython3",
   "version": "3.8.5"
  },
  "orig_nbformat": 4
 },
 "nbformat": 4,
 "nbformat_minor": 2
}
